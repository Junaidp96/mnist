{
 "cells": [
  {
   "cell_type": "code",
   "execution_count": 1,
   "id": "3e6d2798-a8d4-435f-9cc5-e15f42dd8ae4",
   "metadata": {},
   "outputs": [
    {
     "name": "stdout",
     "output_type": "stream",
     "text": [
      "sagemaker.config INFO - Not applying SDK defaults from location: /etc/xdg/sagemaker/config.yaml\n",
      "sagemaker.config INFO - Not applying SDK defaults from location: /home/sagemaker-user/.config/sagemaker/config.yaml\n"
     ]
    }
   ],
   "source": [
    "import sagemaker\n",
    "from sagemaker.processing import ScriptProcessor, ProcessingInput, ProcessingOutput\n",
    "from sagemaker.sklearn.processing import SKLearnProcessor\n",
    "from sagemaker.workflow.steps import ProcessingStep, TrainingStep\n",
    "from sagemaker.workflow.pipeline import Pipeline\n",
    "from sagemaker.inputs import TrainingInput\n",
    "from sagemaker.estimator import Estimator"
   ]
  },
  {
   "cell_type": "code",
   "execution_count": 2,
   "id": "227b1354-2a29-4c6e-99a3-21d6e762ad99",
   "metadata": {},
   "outputs": [],
   "source": [
    "from sagemaker.workflow.pipeline import Pipeline\n",
    "from sagemaker.workflow.pipeline_definition_config import PipelineDefinitionConfig"
   ]
  },
  {
   "cell_type": "code",
   "execution_count": 34,
   "id": "982b4a7b-9939-4155-8db6-6fff2bd3393d",
   "metadata": {},
   "outputs": [],
   "source": [
    "# Role and session setup\n",
    "sagemaker_session = sagemaker.Session()\n",
    "role = sagemaker.get_execution_role()"
   ]
  },
  {
   "cell_type": "code",
   "execution_count": 35,
   "id": "459e6086-7357-4aac-bd6f-ba12fa538f91",
   "metadata": {},
   "outputs": [
    {
     "name": "stderr",
     "output_type": "stream",
     "text": [
      "INFO:sagemaker.image_uris:Defaulting to only available Python version: py3\n"
     ]
    }
   ],
   "source": [
    "# Step 1: Data Preprocessing Step\n",
    "sklearn_processor = SKLearnProcessor(\n",
    "    framework_version='0.23-1',\n",
    "    role=role,\n",
    "    instance_type='ml.m5.large',\n",
    "    instance_count=1,\n",
    "    base_job_name='mlops-sklearnprocessing'\n",
    "    \n",
    ")"
   ]
  },
  {
   "cell_type": "code",
   "execution_count": 36,
   "id": "ae2cbde4-3dc9-4f92-bbf6-016fba7c41f3",
   "metadata": {},
   "outputs": [],
   "source": [
    "# Define processing step\n",
    "processing_step = ProcessingStep(\n",
    "    name='PreprocessingStep',\n",
    "    processor=sklearn_processor,\n",
    "    code='preprocessing.py',  # Path to your preprocessing script\n",
    "    inputs=[\n",
    "        ProcessingInput(source=\"s3://your-bucket/data/drybean.csv\", destination=\"/opt/ml/processing/input\"),\n",
    "    ],\n",
    "     outputs=[\n",
    "        ProcessingOutput(source=\"/opt/ml/processing/output/train\", destination=\"s3://your-bucket/data/processed/train\"),\n",
    "        ProcessingOutput(source=\"/opt/ml/processing/output/val\", destination=\"s3://your-bucket/data/processed/val\"),\n",
    "    ],\n",
    "   # code=\"preprocessing.py\"  # Path to your preprocessing script\n",
    ")"
   ]
  },
  {
   "cell_type": "code",
   "execution_count": 40,
   "id": "bd8444ea-2e0d-4e40-93e1-15ece1bae23e",
   "metadata": {},
   "outputs": [],
   "source": [
    "# Define the pipeline\n",
    "pipeline = Pipeline(\n",
    "    name='MyPipeline6',\n",
    "    steps=[processing_step],\n",
    "    sagemaker_session=sagemaker_session\n",
    ")"
   ]
  },
  {
   "cell_type": "code",
   "execution_count": 41,
   "id": "983d6283-ed90-4be3-bb56-66686b65b586",
   "metadata": {},
   "outputs": [
    {
     "name": "stderr",
     "output_type": "stream",
     "text": [
      "WARNING:sagemaker.workflow.utilities:Popping out 'ProcessingJobName' from the pipeline definition by default since it will be overridden at pipeline execution time. Please utilize the PipelineDefinitionConfig to persist this field in the pipeline definition if desired.\n"
     ]
    },
    {
     "data": {
      "text/plain": [
       "_PipelineExecution(arn='arn:aws:sagemaker:us-east-2:767398042415:pipeline/MyPipeline6/execution/8imy8t9zu09n', sagemaker_session=<sagemaker.session.Session object at 0x7f3c6e9d2610>)"
      ]
     },
     "execution_count": 41,
     "metadata": {},
     "output_type": "execute_result"
    }
   ],
   "source": [
    "# Create and run the pipeline\n",
    "role1=\"arn:aws:iam::767398042415:role/BasicLmabdaSMFULL\"\n",
    "pipeline.create(role_arn=role1)\n",
    "pipeline.start()"
   ]
  },
  {
   "cell_type": "code",
   "execution_count": null,
   "id": "56691d34-f827-4e84-a6d9-55d2d68ebcd9",
   "metadata": {},
   "outputs": [],
   "source": []
  }
 ],
 "metadata": {
  "kernelspec": {
   "display_name": "Python 3 (ipykernel)",
   "language": "python",
   "name": "python3"
  },
  "language_info": {
   "codemirror_mode": {
    "name": "ipython",
    "version": 3
   },
   "file_extension": ".py",
   "mimetype": "text/x-python",
   "name": "python",
   "nbconvert_exporter": "python",
   "pygments_lexer": "ipython3",
   "version": "3.11.9"
  }
 },
 "nbformat": 4,
 "nbformat_minor": 5
}
