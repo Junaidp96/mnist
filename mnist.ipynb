{
 "cells": [
  {
   "cell_type": "code",
   "execution_count": 1,
   "id": "b7ecfe45-373b-4c4b-bbb9-115a41056964",
   "metadata": {},
   "outputs": [],
   "source": [
    "import boto3\n",
    "import pandas as pd\n"
   ]
  },
  {
   "cell_type": "code",
   "execution_count": 2,
   "id": "1de5ee0a-a8d8-4a97-aac9-685c073e49d7",
   "metadata": {},
   "outputs": [],
   "source": [
    "# Initialize a session using your IAM role\n",
    "s3 = boto3.client('s3')\n",
    "\n",
    "# Define your bucket and object key\n",
    "bucket_name = 'drybean-csv'\n",
    "object_key = 'data/drybean.csv'  # Change this to your file path\n",
    "\n",
    "# Download the file\n",
    "s3.download_file(bucket_name, object_key, 'data.csv')\n"
   ]
  },
  {
   "cell_type": "code",
   "execution_count": 3,
   "id": "346f95a2-63d6-41ec-931f-87c5cc6f58cd",
   "metadata": {},
   "outputs": [
    {
     "name": "stdout",
     "output_type": "stream",
     "text": [
      "      0          1                2                3             4   \\\n",
      "0   Area  Perimeter  MajorAxisLength  MinorAxisLength  AspectRation   \n",
      "1  28395    610.291      208.1781167       173.888747   1.197191424   \n",
      "2  28734    638.018      200.5247957      182.7344194   1.097356461   \n",
      "3  29380     624.11      212.8261299      175.9311426   1.209712656   \n",
      "4  30008    645.884       210.557999      182.5165157   1.153638059   \n",
      "\n",
      "             5           6              7            8            9   \\\n",
      "0  Eccentricity  ConvexArea  EquivDiameter       Extent     Solidity   \n",
      "1   0.549812187       28715    190.1410973  0.763922518  0.988855999   \n",
      "2   0.411785251       29172    191.2727505  0.783968133  0.984985603   \n",
      "3   0.562727317       29690    193.4109041  0.778113248  0.989558774   \n",
      "4   0.498615976       30724    195.4670618  0.782681273  0.976695743   \n",
      "\n",
      "            10           11            12            13            14  \\\n",
      "0    roundness  Compactness  ShapeFactor1  ShapeFactor2  ShapeFactor3   \n",
      "1  0.958027126  0.913357755   0.007331506   0.003147289   0.834222388   \n",
      "2  0.887033637  0.953860842   0.006978659   0.003563624   0.909850506   \n",
      "3  0.947849473  0.908774239   0.007243912   0.003047733   0.825870617   \n",
      "4  0.903936374  0.928328835   0.007016729   0.003214562   0.861794425   \n",
      "\n",
      "             15     16  \n",
      "0  ShapeFactor4  Class  \n",
      "1   0.998723889  SEKER  \n",
      "2   0.998430331  SEKER  \n",
      "3   0.999066137  SEKER  \n",
      "4   0.994198849  SEKER  \n"
     ]
    }
   ],
   "source": [
    "data = pd.read_csv('data.csv',header=None)\n",
    "print(data.head())\n"
   ]
  },
  {
   "cell_type": "code",
   "execution_count": 4,
   "id": "f7d0d9d1-dd88-429c-827c-90850e7dbd0b",
   "metadata": {},
   "outputs": [
    {
     "name": "stdout",
     "output_type": "stream",
     "text": [
      "      0          1                2                3             4   \\\n",
      "0   Area  Perimeter  MajorAxisLength  MinorAxisLength  AspectRation   \n",
      "1  28395    610.291      208.1781167       173.888747   1.197191424   \n",
      "2  28734    638.018      200.5247957      182.7344194   1.097356461   \n",
      "3  29380     624.11      212.8261299      175.9311426   1.209712656   \n",
      "4  30008    645.884       210.557999      182.5165157   1.153638059   \n",
      "\n",
      "             5           6              7            8            9   \\\n",
      "0  Eccentricity  ConvexArea  EquivDiameter       Extent     Solidity   \n",
      "1   0.549812187       28715    190.1410973  0.763922518  0.988855999   \n",
      "2   0.411785251       29172    191.2727505  0.783968133  0.984985603   \n",
      "3   0.562727317       29690    193.4109041  0.778113248  0.989558774   \n",
      "4   0.498615976       30724    195.4670618  0.782681273  0.976695743   \n",
      "\n",
      "            10           11            12            13            14  \\\n",
      "0    roundness  Compactness  ShapeFactor1  ShapeFactor2  ShapeFactor3   \n",
      "1  0.958027126  0.913357755   0.007331506   0.003147289   0.834222388   \n",
      "2  0.887033637  0.953860842   0.006978659   0.003563624   0.909850506   \n",
      "3  0.947849473  0.908774239   0.007243912   0.003047733   0.825870617   \n",
      "4  0.903936374  0.928328835   0.007016729   0.003214562   0.861794425   \n",
      "\n",
      "             15     16  \n",
      "0  ShapeFactor4  Class  \n",
      "1   0.998723889      0  \n",
      "2   0.998430331      0  \n",
      "3   0.999066137      0  \n",
      "4   0.994198849      0  \n"
     ]
    }
   ],
   "source": [
    "## convert numerical values\n",
    "data[16] = data[16].replace('SEKER',0)\n",
    "data[16] = data[16].replace('BARBUNYA',1)\n",
    "data[16] = data[16].replace('BOMBAY',2)\n",
    "data[16] = data[16].replace('CALI',3)\n",
    "data[16] = data[16].replace('HOROZ',4)\n",
    "data[16] = data[16].replace('SIRA',5)\n",
    "data[16] = data[16].replace('DERMASON',6)\n",
    "\n",
    "print(data.head())"
   ]
  },
  {
   "cell_type": "code",
   "execution_count": 5,
   "id": "ba698100-4887-4234-8204-15a7315d3627",
   "metadata": {},
   "outputs": [
    {
     "name": "stdout",
     "output_type": "stream",
     "text": [
      "      0         1            2            3            4            5      6   \\\n",
      "0  81506  1109.772  435.6977307  239.7401667  1.817374772  0.835003758  82324   \n",
      "1  38945   735.297  264.5954063  187.8797143  1.408323444  0.704136984  39496   \n",
      "2  76281   1082.67  426.2175577  231.7805298  1.838884215  0.839209645  78073   \n",
      "3  68133  1001.023  356.1784502  244.3591834  1.457602065  0.727546565  69129   \n",
      "4  34001   689.922  252.6455802  171.9591525   1.46921857  0.732623684  34510   \n",
      "\n",
      "            7            8            9            10           11  \\\n",
      "0  322.1438535  0.764309827  0.990063651   0.83163339  0.739374642   \n",
      "1  222.6798466  0.715742851   0.98604922  0.905182156  0.841586215   \n",
      "2  311.6472135  0.817614714  0.977047123  0.817775388   0.73119281   \n",
      "3  294.5329012  0.704894627  0.985592154   0.85443546  0.826925102   \n",
      "4  208.0658976  0.818256203  0.985250652  0.897638697  0.823548536   \n",
      "\n",
      "            12           13           14           15 16  \n",
      "0  0.005345591  0.000985448  0.546674861    0.9935131  3  \n",
      "1  0.006794079  0.002102349  0.708267358  0.997469525  6  \n",
      "2  0.005587467  0.000985195  0.534642925  0.983146436  3  \n",
      "3  0.005227694  0.001507838  0.683805124  0.996715761  1  \n",
      "4  0.007430534  0.002108417  0.678232191   0.99647133  6  \n"
     ]
    }
   ],
   "source": [
    "## shufffle data\n",
    "data = data.sample(frac=1).reset_index(drop=True)\n",
    "print(data.head())"
   ]
  },
  {
   "cell_type": "code",
   "execution_count": 6,
   "id": "15d47fb6-03e6-469f-b07c-21ff7eeddc58",
   "metadata": {},
   "outputs": [
    {
     "name": "stdout",
     "output_type": "stream",
     "text": [
      "      16     0         1            2            3            4            5   \\\n",
      "0      3  81506  1109.772  435.6977307  239.7401667  1.817374772  0.835003758   \n",
      "1      6  38945   735.297  264.5954063  187.8797143  1.408323444  0.704136984   \n",
      "2      3  76281   1082.67  426.2175577  231.7805298  1.838884215  0.839209645   \n",
      "3      1  68133  1001.023  356.1784502  244.3591834  1.457602065  0.727546565   \n",
      "4      6  34001   689.922  252.6455802  171.9591525   1.46921857  0.732623684   \n",
      "...   ..    ...       ...          ...          ...          ...          ...   \n",
      "13607  3  72575  1045.603  412.2459647  226.3721748   1.82109822  0.835744041   \n",
      "13608  3  83581  1101.693  427.2737028  251.6375717  1.697972604  0.808178471   \n",
      "13609  0  46946    796.12  285.4887092  209.8555182  1.360406015  0.677986159   \n",
      "13610  6  32340   664.289  245.9615159  167.6533825  1.467083529  0.731702202   \n",
      "13611  4  45102   865.765  347.7792409  167.2141025  2.079843958  0.876827385   \n",
      "\n",
      "          6            7            8            9            10           11  \\\n",
      "0      82324  322.1438535  0.764309827  0.990063651   0.83163339  0.739374642   \n",
      "1      39496  222.6798466  0.715742851   0.98604922  0.905182156  0.841586215   \n",
      "2      78073  311.6472135  0.817614714  0.977047123  0.817775388   0.73119281   \n",
      "3      69129  294.5329012  0.704894627  0.985592154   0.85443546  0.826925102   \n",
      "4      34510  208.0658976  0.818256203  0.985250652  0.897638697  0.823548536   \n",
      "...      ...          ...          ...          ...          ...          ...   \n",
      "13607  73615  303.9824994  0.784586113  0.985872444  0.834186711  0.737381383   \n",
      "13608  84407   326.218691   0.79728518  0.990214082  0.865358865   0.76348881   \n",
      "13609  47380  244.4862034  0.767593198  0.990840017  0.930789316  0.856377837   \n",
      "13610  32676  202.9200997  0.730055533  0.989717224  0.920949375  0.825007518   \n",
      "13611  45917  239.6364954  0.667189349  0.982250583  0.756145924  0.689047727   \n",
      "\n",
      "                12           13           14           15  \n",
      "0      0.005345591  0.000985448  0.546674861    0.9935131  \n",
      "1      0.006794079  0.002102349  0.708267358  0.997469525  \n",
      "2      0.005587467  0.000985195  0.534642925  0.983146436  \n",
      "3      0.005227694  0.001507838  0.683805124  0.996715761  \n",
      "4      0.007430534  0.002108417  0.678232191   0.99647133  \n",
      "...            ...          ...          ...          ...  \n",
      "13607  0.005680275    0.0010359  0.543731303  0.990188109  \n",
      "13608  0.005112091  0.001071492  0.582915164  0.989773978  \n",
      "13609  0.006081215  0.002017585  0.733383001  0.997698645  \n",
      "13610  0.007605489  0.002173394  0.680637404  0.998551925  \n",
      "13611  0.007710949  0.001072222   0.47478677  0.987482395  \n",
      "\n",
      "[13612 rows x 17 columns]\n"
     ]
    }
   ],
   "source": [
    "## change the label cloumn index\n",
    "\n",
    "data = data[[16,0,1,2,3,4,5,6,7,8,9,10,11,12,13,14,15]]\n",
    "print(data)"
   ]
  },
  {
   "cell_type": "code",
   "execution_count": 7,
   "id": "6c231e2d-0be0-4b9c-9c3e-b1140689bb9b",
   "metadata": {},
   "outputs": [],
   "source": [
    "## split train, val sets\n",
    "\n",
    "train_data = data[:120]\n",
    "val_data = data[120:]"
   ]
  },
  {
   "cell_type": "code",
   "execution_count": 8,
   "id": "fd9baab8-54a2-4959-bbfc-08afb145a5df",
   "metadata": {},
   "outputs": [],
   "source": [
    "import boto3\n",
    "bucket_name = 'drybean-csv'\n",
    "\n",
    "train_data.to_csv('data.csv', header=False , index=False)\n",
    "key = 'data/train/data'\n",
    "url = 's3://{}/{}'.format(bucket_name,key)\n",
    "boto3.Session().resource('s3').Bucket(bucket_name).Object(key).upload_file('data.csv')\n",
    "\n",
    "val_data.to_csv('data.csv', header=False , index=False)\n",
    "key = 'data/val/data'\n",
    "url = 's3://{}/{}'.format(bucket_name,key)\n",
    "boto3.Session().resource('s3').Bucket(bucket_name).Object(key).upload_file('data.csv')"
   ]
  },
  {
   "cell_type": "code",
   "execution_count": 9,
   "id": "b692b934-7a61-4720-8b4d-cd2507e961a7",
   "metadata": {},
   "outputs": [
    {
     "name": "stdout",
     "output_type": "stream",
     "text": [
      "sagemaker.config INFO - Not applying SDK defaults from location: /etc/xdg/sagemaker/config.yaml\n",
      "sagemaker.config INFO - Not applying SDK defaults from location: /home/sagemaker-user/.config/sagemaker/config.yaml\n"
     ]
    }
   ],
   "source": [
    "import sagemaker\n",
    "from sagemaker import image_uris\n",
    "from sagemaker import get_execution_role\n",
    "\n",
    "key = 'model/xgb_model'\n",
    "s3_output_location = 's3://{}/{}'.format(bucket_name, key)\n",
    "# Retrieve the latest XGBoost image URI\n",
    "xgboost_image_uri = image_uris.retrieve(framework='xgboost', region=boto3.Session().region_name, version='latest')\n",
    "\n",
    "\n",
    "xgb_model = sagemaker.estimator.Estimator(\n",
    "    xgboost_image_uri,\n",
    "    get_execution_role(),\n",
    "    instance_count=1,\n",
    "    instance_type='ml.m4.xlarge',\n",
    "    output_path=s3_output_location,\n",
    "    sagemaker_session=sagemaker.Session()\n",
    ")\n",
    "\n",
    "xgb_model.set_hyperparameters(max_depth=5,\n",
    "                              eta=0.2,\n",
    "                              min_child_weight=6,\n",
    "                              silent=0,\n",
    "                              objective='multi:softmax',\n",
    "                              num_class=7,\n",
    "                              num_round=10)"
   ]
  },
  {
   "cell_type": "code",
   "execution_count": 10,
   "id": "d5bb9392-d099-4ff3-89d9-36498c2ac7c6",
   "metadata": {},
   "outputs": [
    {
     "name": "stderr",
     "output_type": "stream",
     "text": [
      "INFO:sagemaker:Creating training-job with name: xgboost-2024-10-09-13-28-37-742\n"
     ]
    },
    {
     "name": "stdout",
     "output_type": "stream",
     "text": [
      "2024-10-09 13:28:41 Starting - Starting the training job...\n",
      "2024-10-09 13:28:55 Starting - Preparing the instances for training...\n",
      "2024-10-09 13:29:41 Downloading - Downloading the training image......\n",
      "2024-10-09 13:30:31 Training - Training image download completed. Training in progress..\u001b[34mArguments: train\u001b[0m\n",
      "\u001b[34m[2024-10-09:13:30:44:INFO] Running standalone xgboost training.\u001b[0m\n",
      "\u001b[34m[2024-10-09:13:30:44:INFO] File size need to be processed in the node: 2.29mb. Available memory size in the node: 8454.08mb\u001b[0m\n",
      "\u001b[34m[2024-10-09:13:30:44:INFO] Determined delimiter of CSV input is ','\u001b[0m\n",
      "\u001b[34m[13:30:44] S3DistributionType set as FullyReplicated\u001b[0m\n",
      "\u001b[34m[13:30:44] 120x16 matrix with 1920 entries loaded from /opt/ml/input/data/train?format=csv&label_column=0&delimiter=,\u001b[0m\n",
      "\u001b[34m[2024-10-09:13:30:44:INFO] Determined delimiter of CSV input is ','\u001b[0m\n",
      "\u001b[34m[13:30:44] S3DistributionType set as FullyReplicated\u001b[0m\n",
      "\u001b[34m[13:30:44] 13492x16 matrix with 215872 entries loaded from /opt/ml/input/data/validation?format=csv&label_column=0&delimiter=,\u001b[0m\n",
      "\u001b[34m[13:30:44] src/tree/updater_prune.cc:74: tree pruning end, 1 roots, 2 extra nodes, 0 pruned nodes, max_depth=1\u001b[0m\n",
      "\u001b[34m[13:30:44] src/tree/updater_prune.cc:74: tree pruning end, 1 roots, 2 extra nodes, 0 pruned nodes, max_depth=1\u001b[0m\n",
      "\u001b[34m[13:30:44] src/tree/updater_prune.cc:74: tree pruning end, 1 roots, 2 extra nodes, 0 pruned nodes, max_depth=1\u001b[0m\n",
      "\u001b[34m[13:30:44] src/tree/updater_prune.cc:74: tree pruning end, 1 roots, 2 extra nodes, 0 pruned nodes, max_depth=1\u001b[0m\n",
      "\u001b[34m[13:30:44] src/tree/updater_prune.cc:74: tree pruning end, 1 roots, 4 extra nodes, 0 pruned nodes, max_depth=2\u001b[0m\n",
      "\u001b[34m[13:30:44] src/tree/updater_prune.cc:74: tree pruning end, 1 roots, 4 extra nodes, 0 pruned nodes, max_depth=2\u001b[0m\n",
      "\u001b[34m[13:30:44] src/tree/updater_prune.cc:74: tree pruning end, 1 roots, 4 extra nodes, 0 pruned nodes, max_depth=2\u001b[0m\n",
      "\u001b[34m[0]#011train-merror:0.233333#011validation-merror:0.317892\u001b[0m\n",
      "\u001b[34m[13:30:44] src/tree/updater_prune.cc:74: tree pruning end, 1 roots, 2 extra nodes, 0 pruned nodes, max_depth=1\u001b[0m\n",
      "\u001b[34m[13:30:44] src/tree/updater_prune.cc:74: tree pruning end, 1 roots, 2 extra nodes, 0 pruned nodes, max_depth=1\u001b[0m\n",
      "\u001b[34m[13:30:44] src/tree/updater_prune.cc:74: tree pruning end, 1 roots, 2 extra nodes, 0 pruned nodes, max_depth=1\u001b[0m\n",
      "\u001b[34m[13:30:44] src/tree/updater_prune.cc:74: tree pruning end, 1 roots, 2 extra nodes, 0 pruned nodes, max_depth=1\u001b[0m\n",
      "\u001b[34m[13:30:44] src/tree/updater_prune.cc:74: tree pruning end, 1 roots, 4 extra nodes, 0 pruned nodes, max_depth=2\u001b[0m\n",
      "\u001b[34m[13:30:44] src/tree/updater_prune.cc:74: tree pruning end, 1 roots, 4 extra nodes, 0 pruned nodes, max_depth=2\u001b[0m\n",
      "\u001b[34m[13:30:44] src/tree/updater_prune.cc:74: tree pruning end, 1 roots, 2 extra nodes, 0 pruned nodes, max_depth=1\u001b[0m\n",
      "\u001b[34m[1]#011train-merror:0.175#011validation-merror:0.291284\u001b[0m\n",
      "\u001b[34m[13:30:44] src/tree/updater_prune.cc:74: tree pruning end, 1 roots, 2 extra nodes, 0 pruned nodes, max_depth=1\u001b[0m\n",
      "\u001b[34m[13:30:44] src/tree/updater_prune.cc:74: tree pruning end, 1 roots, 4 extra nodes, 0 pruned nodes, max_depth=2\u001b[0m\n",
      "\u001b[34m[13:30:44] src/tree/updater_prune.cc:74: tree pruning end, 1 roots, 2 extra nodes, 0 pruned nodes, max_depth=1\u001b[0m\n",
      "\u001b[34m[13:30:44] src/tree/updater_prune.cc:74: tree pruning end, 1 roots, 2 extra nodes, 0 pruned nodes, max_depth=1\u001b[0m\n",
      "\u001b[34m[13:30:44] src/tree/updater_prune.cc:74: tree pruning end, 1 roots, 2 extra nodes, 0 pruned nodes, max_depth=1\u001b[0m\n",
      "\u001b[34m[13:30:44] src/tree/updater_prune.cc:74: tree pruning end, 1 roots, 6 extra nodes, 0 pruned nodes, max_depth=3\u001b[0m\n",
      "\u001b[34m[13:30:44] src/tree/updater_prune.cc:74: tree pruning end, 1 roots, 4 extra nodes, 0 pruned nodes, max_depth=2\u001b[0m\n",
      "\u001b[34m[2]#011train-merror:0.183333#011validation-merror:0.291061\u001b[0m\n",
      "\u001b[34m[13:30:44] src/tree/updater_prune.cc:74: tree pruning end, 1 roots, 2 extra nodes, 0 pruned nodes, max_depth=1\u001b[0m\n",
      "\u001b[34m[13:30:44] src/tree/updater_prune.cc:74: tree pruning end, 1 roots, 2 extra nodes, 0 pruned nodes, max_depth=1\u001b[0m\n",
      "\u001b[34m[13:30:44] src/tree/updater_prune.cc:74: tree pruning end, 1 roots, 2 extra nodes, 0 pruned nodes, max_depth=1\u001b[0m\n",
      "\u001b[34m[13:30:44] src/tree/updater_prune.cc:74: tree pruning end, 1 roots, 4 extra nodes, 0 pruned nodes, max_depth=2\u001b[0m\n",
      "\u001b[34m[13:30:44] src/tree/updater_prune.cc:74: tree pruning end, 1 roots, 4 extra nodes, 0 pruned nodes, max_depth=2\u001b[0m\n",
      "\u001b[34m[13:30:44] src/tree/updater_prune.cc:74: tree pruning end, 1 roots, 6 extra nodes, 0 pruned nodes, max_depth=3\u001b[0m\n",
      "\u001b[34m[13:30:44] src/tree/updater_prune.cc:74: tree pruning end, 1 roots, 4 extra nodes, 0 pruned nodes, max_depth=2\u001b[0m\n",
      "\u001b[34m[3]#011train-merror:0.191667#011validation-merror:0.296324\u001b[0m\n",
      "\u001b[34m[13:30:44] src/tree/updater_prune.cc:74: tree pruning end, 1 roots, 2 extra nodes, 0 pruned nodes, max_depth=1\u001b[0m\n",
      "\u001b[34m[13:30:44] src/tree/updater_prune.cc:74: tree pruning end, 1 roots, 4 extra nodes, 0 pruned nodes, max_depth=2\u001b[0m\n",
      "\u001b[34m[13:30:44] src/tree/updater_prune.cc:74: tree pruning end, 1 roots, 2 extra nodes, 0 pruned nodes, max_depth=1\u001b[0m\n",
      "\u001b[34m[13:30:44] src/tree/updater_prune.cc:74: tree pruning end, 1 roots, 4 extra nodes, 0 pruned nodes, max_depth=2\u001b[0m\n",
      "\u001b[34m[13:30:44] src/tree/updater_prune.cc:74: tree pruning end, 1 roots, 4 extra nodes, 0 pruned nodes, max_depth=2\u001b[0m\n",
      "\u001b[34m[13:30:44] src/tree/updater_prune.cc:74: tree pruning end, 1 roots, 4 extra nodes, 0 pruned nodes, max_depth=2\u001b[0m\n",
      "\u001b[34m[13:30:44] src/tree/updater_prune.cc:74: tree pruning end, 1 roots, 4 extra nodes, 0 pruned nodes, max_depth=2\u001b[0m\n",
      "\u001b[34m[4]#011train-merror:0.166667#011validation-merror:0.270901\u001b[0m\n",
      "\u001b[34m[13:30:44] src/tree/updater_prune.cc:74: tree pruning end, 1 roots, 2 extra nodes, 0 pruned nodes, max_depth=1\u001b[0m\n",
      "\u001b[34m[13:30:44] src/tree/updater_prune.cc:74: tree pruning end, 1 roots, 4 extra nodes, 0 pruned nodes, max_depth=2\u001b[0m\n",
      "\u001b[34m[13:30:44] src/tree/updater_prune.cc:74: tree pruning end, 1 roots, 2 extra nodes, 0 pruned nodes, max_depth=1\u001b[0m\n",
      "\u001b[34m[13:30:44] src/tree/updater_prune.cc:74: tree pruning end, 1 roots, 4 extra nodes, 0 pruned nodes, max_depth=2\u001b[0m\n",
      "\u001b[34m[13:30:44] src/tree/updater_prune.cc:74: tree pruning end, 1 roots, 4 extra nodes, 0 pruned nodes, max_depth=2\u001b[0m\n",
      "\u001b[34m[13:30:44] src/tree/updater_prune.cc:74: tree pruning end, 1 roots, 4 extra nodes, 0 pruned nodes, max_depth=2\u001b[0m\n",
      "\u001b[34m[13:30:44] src/tree/updater_prune.cc:74: tree pruning end, 1 roots, 4 extra nodes, 0 pruned nodes, max_depth=2\u001b[0m\n",
      "\u001b[34m[5]#011train-merror:0.15#011validation-merror:0.260747\u001b[0m\n",
      "\u001b[34m[13:30:44] src/tree/updater_prune.cc:74: tree pruning end, 1 roots, 2 extra nodes, 0 pruned nodes, max_depth=1\u001b[0m\n",
      "\u001b[34m[13:30:44] src/tree/updater_prune.cc:74: tree pruning end, 1 roots, 2 extra nodes, 0 pruned nodes, max_depth=1\u001b[0m\n",
      "\u001b[34m[13:30:44] src/tree/updater_prune.cc:74: tree pruning end, 1 roots, 2 extra nodes, 0 pruned nodes, max_depth=1\u001b[0m\n",
      "\u001b[34m[13:30:44] src/tree/updater_prune.cc:74: tree pruning end, 1 roots, 4 extra nodes, 0 pruned nodes, max_depth=2\u001b[0m\n",
      "\u001b[34m[13:30:44] src/tree/updater_prune.cc:74: tree pruning end, 1 roots, 4 extra nodes, 0 pruned nodes, max_depth=2\u001b[0m\n",
      "\u001b[34m[13:30:44] src/tree/updater_prune.cc:74: tree pruning end, 1 roots, 6 extra nodes, 0 pruned nodes, max_depth=3\u001b[0m\n",
      "\u001b[34m[13:30:44] src/tree/updater_prune.cc:74: tree pruning end, 1 roots, 4 extra nodes, 0 pruned nodes, max_depth=2\u001b[0m\n",
      "\u001b[34m[6]#011train-merror:0.125#011validation-merror:0.249629\u001b[0m\n",
      "\u001b[34m[13:30:44] src/tree/updater_prune.cc:74: tree pruning end, 1 roots, 2 extra nodes, 0 pruned nodes, max_depth=1\u001b[0m\n",
      "\u001b[34m[13:30:44] src/tree/updater_prune.cc:74: tree pruning end, 1 roots, 4 extra nodes, 0 pruned nodes, max_depth=2\u001b[0m\n",
      "\u001b[34m[13:30:44] src/tree/updater_prune.cc:74: tree pruning end, 1 roots, 2 extra nodes, 0 pruned nodes, max_depth=1\u001b[0m\n",
      "\u001b[34m[13:30:44] src/tree/updater_prune.cc:74: tree pruning end, 1 roots, 4 extra nodes, 0 pruned nodes, max_depth=2\u001b[0m\n",
      "\u001b[34m[13:30:44] src/tree/updater_prune.cc:74: tree pruning end, 1 roots, 2 extra nodes, 0 pruned nodes, max_depth=1\u001b[0m\n",
      "\u001b[34m[13:30:44] src/tree/updater_prune.cc:74: tree pruning end, 1 roots, 4 extra nodes, 0 pruned nodes, max_depth=2\u001b[0m\n",
      "\u001b[34m[13:30:44] src/tree/updater_prune.cc:74: tree pruning end, 1 roots, 4 extra nodes, 0 pruned nodes, max_depth=2\u001b[0m\n",
      "\u001b[34m[7]#011train-merror:0.1#011validation-merror:0.233323\u001b[0m\n",
      "\u001b[34m[13:30:44] src/tree/updater_prune.cc:74: tree pruning end, 1 roots, 2 extra nodes, 0 pruned nodes, max_depth=1\u001b[0m\n",
      "\u001b[34m[13:30:44] src/tree/updater_prune.cc:74: tree pruning end, 1 roots, 2 extra nodes, 0 pruned nodes, max_depth=1\u001b[0m\n",
      "\u001b[34m[13:30:44] src/tree/updater_prune.cc:74: tree pruning end, 1 roots, 2 extra nodes, 0 pruned nodes, max_depth=1\u001b[0m\n",
      "\u001b[34m[13:30:44] src/tree/updater_prune.cc:74: tree pruning end, 1 roots, 4 extra nodes, 0 pruned nodes, max_depth=2\u001b[0m\n",
      "\u001b[34m[13:30:44] src/tree/updater_prune.cc:74: tree pruning end, 1 roots, 4 extra nodes, 0 pruned nodes, max_depth=2\u001b[0m\n",
      "\u001b[34m[13:30:44] src/tree/updater_prune.cc:74: tree pruning end, 1 roots, 4 extra nodes, 0 pruned nodes, max_depth=2\u001b[0m\n",
      "\u001b[34m[13:30:44] src/tree/updater_prune.cc:74: tree pruning end, 1 roots, 4 extra nodes, 0 pruned nodes, max_depth=2\u001b[0m\n",
      "\u001b[34m[8]#011train-merror:0.1#011validation-merror:0.229543\u001b[0m\n",
      "\u001b[34m[13:30:44] src/tree/updater_prune.cc:74: tree pruning end, 1 roots, 2 extra nodes, 0 pruned nodes, max_depth=1\u001b[0m\n",
      "\u001b[34m[13:30:44] src/tree/updater_prune.cc:74: tree pruning end, 1 roots, 4 extra nodes, 0 pruned nodes, max_depth=2\u001b[0m\n",
      "\u001b[34m[13:30:44] src/tree/updater_prune.cc:74: tree pruning end, 1 roots, 2 extra nodes, 0 pruned nodes, max_depth=1\u001b[0m\n",
      "\u001b[34m[13:30:44] src/tree/updater_prune.cc:74: tree pruning end, 1 roots, 4 extra nodes, 0 pruned nodes, max_depth=2\u001b[0m\n",
      "\u001b[34m[13:30:44] src/tree/updater_prune.cc:74: tree pruning end, 1 roots, 2 extra nodes, 0 pruned nodes, max_depth=1\u001b[0m\n",
      "\u001b[34m[13:30:44] src/tree/updater_prune.cc:74: tree pruning end, 1 roots, 4 extra nodes, 0 pruned nodes, max_depth=2\u001b[0m\n",
      "\u001b[34m[13:30:44] src/tree/updater_prune.cc:74: tree pruning end, 1 roots, 4 extra nodes, 0 pruned nodes, max_depth=2\u001b[0m\n",
      "\u001b[34m[9]#011train-merror:0.075#011validation-merror:0.196487\u001b[0m\n",
      "\n",
      "2024-10-09 13:31:05 Uploading - Uploading generated training model\n",
      "2024-10-09 13:31:05 Completed - Training job completed\n",
      "Training seconds: 110\n",
      "Billable seconds: 110\n"
     ]
    }
   ],
   "source": [
    "import sagemaker\n",
    "from sagemaker import inputs\n",
    "\n",
    "train_data = 's3://{}/{}'.format(bucket_name, 'data/train')\n",
    "val_data = 's3://{}/{}'.format(bucket_name, 'data/val')\n",
    "\n",
    "train_channel = inputs.TrainingInput(train_data, content_type='text/csv')\n",
    "val_channel = inputs.TrainingInput(val_data, content_type='text/csv')\n",
    "\n",
    "data_channels = {'train': train_channel, 'validation': val_channel}\n",
    "\n",
    "xgb_model.fit(inputs=data_channels)"
   ]
  },
  {
   "cell_type": "code",
   "execution_count": 11,
   "id": "94e7fc1b-2e72-4f30-a7b2-c7e17a86c04b",
   "metadata": {},
   "outputs": [
    {
     "name": "stderr",
     "output_type": "stream",
     "text": [
      "INFO:sagemaker:Creating model with name: xgboost-2024-10-09-13-32-14-471\n",
      "INFO:sagemaker:Creating endpoint-config with name xgboost-2024-10-09-13-32-14-471\n",
      "INFO:sagemaker:Creating endpoint with name xgboost-2024-10-09-13-32-14-471\n"
     ]
    },
    {
     "name": "stdout",
     "output_type": "stream",
     "text": [
      "------!"
     ]
    }
   ],
   "source": [
    "xgb_predictor = xgb_model.deploy(initial_instance_count=1,\n",
    "                                 instance_type='ml.m4.xlarge')"
   ]
  },
  {
   "cell_type": "code",
   "execution_count": null,
   "id": "52e41796-e1c3-4590-bf6a-3ff8e0de192e",
   "metadata": {},
   "outputs": [],
   "source": []
  }
 ],
 "metadata": {
  "kernelspec": {
   "display_name": "Python 3 (ipykernel)",
   "language": "python",
   "name": "python3"
  },
  "language_info": {
   "codemirror_mode": {
    "name": "ipython",
    "version": 3
   },
   "file_extension": ".py",
   "mimetype": "text/x-python",
   "name": "python",
   "nbconvert_exporter": "python",
   "pygments_lexer": "ipython3",
   "version": "3.11.9"
  }
 },
 "nbformat": 4,
 "nbformat_minor": 5
}
