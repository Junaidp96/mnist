{
 "cells": [
  {
   "cell_type": "code",
   "execution_count": 2,
   "id": "6abc2aa5-950e-4c10-acc4-160de2446ed7",
   "metadata": {},
   "outputs": [],
   "source": [
    "import sagemaker\n",
    "from sagemaker.processing import ScriptProcessor, ProcessingInput, ProcessingOutput\n",
    "from sagemaker.sklearn.processing import SKLearnProcessor\n",
    "from sagemaker.workflow.steps import ProcessingStep, TrainingStep\n",
    "from sagemaker.workflow.pipeline import Pipeline\n",
    "from sagemaker.inputs import TrainingInput\n",
    "from sagemaker.estimator import Estimator"
   ]
  },
  {
   "cell_type": "code",
   "execution_count": 20,
   "id": "b59a4b1e-6380-4d68-9f6c-73e5459e3382",
   "metadata": {},
   "outputs": [],
   "source": [
    "# Role and session setup\n",
    "sagemaker_session = sagemaker.Session()\n",
    "role = sagemaker.get_execution_role()"
   ]
  },
  {
   "cell_type": "code",
   "execution_count": 21,
   "id": "bc7ecaca-44b2-4a8d-a125-8723f8b61d57",
   "metadata": {},
   "outputs": [
    {
     "name": "stderr",
     "output_type": "stream",
     "text": [
      "INFO:sagemaker.image_uris:Defaulting to only available Python version: py3\n"
     ]
    }
   ],
   "source": [
    "# Step 1: Data Preprocessing Step\n",
    "sklearn_processor = SKLearnProcessor(\n",
    "    framework_version='0.23-1',\n",
    "    role=role,\n",
    "    instance_type='ml.m5.large',\n",
    "    instance_count=1\n",
    "    \n",
    ")"
   ]
  },
  {
   "cell_type": "code",
   "execution_count": 22,
   "id": "705c32a8-5553-43f8-9bc8-e5b7bb88ef24",
   "metadata": {},
   "outputs": [],
   "source": [
    "preprocessing_step = ProcessingStep(\n",
    "    name=\"PreprocessData\",\n",
    "    processor=sklearn_processor,\n",
    "    inputs=[\n",
    "        ProcessingInput(source=\"s3://drybean-csv/data/drybean.csv\", destination=\"/opt/ml/processing/input\"),\n",
    "    ],\n",
    "    outputs=[\n",
    "        ProcessingOutput(source=\"/opt/ml/processing/output/train\", destination=\"s3://drybean-csv/data/processed/train\"),\n",
    "        ProcessingOutput(source=\"/opt/ml/processing/output/val\", destination=\"s3://drybean-csv/data/processed/val\"),\n",
    "        ProcessingOutput(source=\"/opt/ml/processing/output/test\", destination=\"s3://drybean-csv/data/processed/test\"),\n",
    "    ],\n",
    "    code=\"preprocessing.py\"  # Path to the preprocessing script\n",
    ")"
   ]
  },
  {
   "cell_type": "code",
   "execution_count": 23,
   "id": "f427c8b2-d33c-4a6a-9771-3237cf461c49",
   "metadata": {},
   "outputs": [
    {
     "name": "stderr",
     "output_type": "stream",
     "text": [
      "INFO:sagemaker.image_uris:Ignoring unnecessary instance type: None.\n"
     ]
    }
   ],
   "source": [
    "# Step 2: Training Step\n",
    "xgb_estimator = Estimator(\n",
    "    image_uri=sagemaker.image_uris.retrieve(framework='xgboost', region=sagemaker_session.boto_session.region_name, version='1.2-1'),\n",
    "    role=role,\n",
    "    instance_count=1,\n",
    "    instance_type='ml.m5.large',\n",
    "    output_path=\"s3://drybean-csv/model-output\",\n",
    "    hyperparameters={\n",
    "        \"max_depth\": 5,\n",
    "        \"eta\": 0.2,\n",
    "        \"gamma\": 4,\n",
    "        \"min_child_weight\": 6,\n",
    "        \"subsample\": 0.8,\n",
    "        \"objective\": \"multi:softmax\",\n",
    "        \"num_class\": 7,\n",
    "        \"num_round\": 100,\n",
    "    }\n",
    ")"
   ]
  },
  {
   "cell_type": "code",
   "execution_count": 24,
   "id": "5043fb75-bead-4847-a4dd-0d08326fdb98",
   "metadata": {},
   "outputs": [],
   "source": [
    "training_step = TrainingStep(\n",
    "    name=\"TrainModel\",\n",
    "    estimator=xgb_estimator,\n",
    "    inputs={\n",
    "        \"train\": TrainingInput(s3_data=\"s3://drybean-csv/data/processed/train\", content_type=\"text/csv\"),\n",
    "        \"validation\": TrainingInput(s3_data=\"s3://drybean-csv/data/processed/val\", content_type=\"text/csv\"),\n",
    "    }\n",
    ")"
   ]
  },
  {
   "cell_type": "code",
   "execution_count": 26,
   "id": "26e7c6c0-7849-4e69-b50a-9841ea24e714",
   "metadata": {},
   "outputs": [
    {
     "name": "stderr",
     "output_type": "stream",
     "text": [
      "WARNING:sagemaker.workflow.utilities:Popping out 'ProcessingJobName' from the pipeline definition by default since it will be overridden at pipeline execution time. Please utilize the PipelineDefinitionConfig to persist this field in the pipeline definition if desired.\n"
     ]
    },
    {
     "data": {
      "text/plain": [
       "_PipelineExecution(arn='arn:aws:sagemaker:us-east-2:767398042415:pipeline/MyPipeline001/execution/clblxb0sezm5', sagemaker_session=<sagemaker.session.Session object at 0x7ff6e396b3d0>)"
      ]
     },
     "execution_count": 26,
     "metadata": {},
     "output_type": "execute_result"
    }
   ],
   "source": [
    "from sagemaker.workflow.pipeline import Pipeline\n",
    "\n",
    "# Define the pipeline\n",
    "pipeline = Pipeline(\n",
    "    name='MyPipeline001',\n",
    "    steps=[preprocessing_step],\n",
    "    sagemaker_session=sagemaker_session\n",
    ")\n",
    "\n",
    "# Create and run the pipeline\n",
    "pipeline.create(role_arn=role)\n",
    "pipeline.start()\n",
    "\n",
    "\n"
   ]
  },
  {
   "cell_type": "code",
   "execution_count": null,
   "id": "d0139bc0-5a7f-43b8-a9ca-84d2f01652a7",
   "metadata": {},
   "outputs": [],
   "source": []
  }
 ],
 "metadata": {
  "kernelspec": {
   "display_name": "Python 3 (ipykernel)",
   "language": "python",
   "name": "python3"
  },
  "language_info": {
   "codemirror_mode": {
    "name": "ipython",
    "version": 3
   },
   "file_extension": ".py",
   "mimetype": "text/x-python",
   "name": "python",
   "nbconvert_exporter": "python",
   "pygments_lexer": "ipython3",
   "version": "3.11.9"
  }
 },
 "nbformat": 4,
 "nbformat_minor": 5
}
